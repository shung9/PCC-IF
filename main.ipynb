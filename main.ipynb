{
  "nbformat": 4,
  "nbformat_minor": 0,
  "metadata": {
    "colab": {
      "provenance": [],
      "authorship_tag": "ABX9TyNUgLDu43FDWMvDWmbcwBFr",
      "include_colab_link": true
    },
    "kernelspec": {
      "name": "python3",
      "display_name": "Python 3"
    },
    "language_info": {
      "name": "python"
    }
  },
  "cells": [
    {
      "cell_type": "markdown",
      "metadata": {
        "id": "view-in-github",
        "colab_type": "text"
      },
      "source": [
        "<a href=\"https://colab.research.google.com/github/shung9/PCC-IF/blob/master/main.ipynb\" target=\"_parent\"><img src=\"https://colab.research.google.com/assets/colab-badge.svg\" alt=\"Open In Colab\"/></a>"
      ]
    },
    {
      "cell_type": "code",
      "source": [
        "\n",
        "import sqlite3\n",
        "from bs4 import BeautifulSoup\n",
        "import requests\n",
        "from requests.adapters import HTTPAdapter, Retry\n",
        "\n",
        "\n",
        "def get_use_urls():\n",
        "    session = requests.Session()\n",
        "    retry = Retry(connect=3, backoff_factor=0.5)\n",
        "    adapter = HTTPAdapter(max_retries=retry)\n",
        "    session.mount('http://', adapter)\n",
        "    session.mount('https://', adapter)\n",
        "\n",
        "    headers = {'User-Agent': 'Mozilla/5.0 (Macintosh; Intel Mac OS X 10_11_5) AppleWebKit/537.36 (KHTML, like Gecko) Chrome/50.0.2661.102 Safari/537.36'}\n",
        "    return session, headers\n",
        "\n",
        "def get_content():\n",
        "    datas_urls = []# liste vide, stock urls recordes\n",
        "    x = get_use_urls() # header, session\n",
        "    session = x[0] # session\n",
        "    headers = x[1] # headers\n",
        "    url = 'https://www.matchendirect.fr/classement-foot/'\n",
        "\n",
        "    response = session.get(url, headers=headers)\n",
        "    if response.status_code == 200:\n",
        "        soup = BeautifulSoup(response.text, 'html.parser')\n",
        "        elements = soup.find_all('div', class_='panel')\n",
        "        for i in elements:\n",
        "            tags = i.find_all('a', class_=False)\n",
        "            for e in tags:\n",
        "                if e.get('href') != \"/article/\":\n",
        "                    urls_rec = e.get('href')\n",
        "                    datas_urls.append(urls_rec)\n",
        "\n",
        "    else:\n",
        "        print('error')\n",
        "    return datas_urls\n",
        "\n",
        "\n",
        "# create link to accessed datas\n",
        "def get_urls(): # urls complets\n",
        "    urls_complets = []\n",
        "    urls = get_content()\n",
        "\n",
        "    for index, url in enumerate(urls):\n",
        "         lien = f\"https://www.matchendirect.fr{url}\"\n",
        "         urls_complets.append(lien)\n",
        "    return urls_complets\n",
        "\n",
        "#recuperer Les classements\n",
        "def get_recupe_data():\n",
        "    urls = get_urls() # liste"
      ],
      "metadata": {
        "colab": {
          "base_uri": "https://localhost:8080/"
        },
        "id": "QRi9diP8gcsX",
        "outputId": "e897872a-95a9-4370-e01a-596eac11c5a9"
      },
      "execution_count": 17,
      "outputs": [
        {
          "output_type": "stream",
          "name": "stdout",
          "text": [
            "1339\n"
          ]
        }
      ]
    }
  ]
}